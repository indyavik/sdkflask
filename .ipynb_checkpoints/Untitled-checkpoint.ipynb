{
 "cells": [
  {
   "cell_type": "code",
   "execution_count": 1,
   "metadata": {
    "collapsed": false
   },
   "outputs": [
    {
     "name": "stdout",
     "output_type": "stream",
     "text": [
      "arm-recoveryservicesbackup\n",
      "md project : arm-recoveryservicesbackup\n"
     ]
    }
   ],
   "source": [
    "import os, json, shutil\n",
    "from time import gmtime, strftime\n",
    "from datetime import datetime\n",
    "from cron import helpers\n",
    "import copy\n",
    "\n",
    "#globals (via a config file later on)\n",
    "git_url = 'https://api.github.com/repos/Azure/azure-rest-api-specs/'\n",
    "raw_url = 'https://raw.githubusercontent.com/Azure/azure-rest-api-specs/master/' \n",
    "sdk_raw_url = 'https://raw.githubusercontent.com/Azure/azure-sdk-for-python/master/'\n",
    "swagger_to_sdk_config_file_name = 'swagger_to_sdk_config.json'\n",
    "assumed_current_date = '2017-04-01' #all packages without build.json are assued to be current as of  04-01\n",
    "sdk_url = 'https://api.github.com/repos/Azure/azure-sdk-for-python/'\n",
    "\n",
    "\"\"\"\n",
    "Key Definitions:\n",
    "project: Key in swagger_to_sdk_config. Example 'cdn', 'batch.management' , 'billing' \n",
    "sdk or sdk_name: Name of the corresponding project as in azure-sdk-for-python repo. Example 'azure-mgt-cdn', 'azure-mgmt-batch' \n",
    "azure_api_name (or azure_project) : Name of the corresponding project in azure-rest-api-specs repo. Example 'arm-cdn'\n",
    "\n",
    "\"\"\"\n",
    "\n",
    "with open('config/api2sdk2nuget.json', 'r') as f:\n",
    "    map_object = json.load(f)\n",
    "\n",
    "    sdk_map = map_object\n",
    "\n",
    "#get existing projects from swagger_to_sdk config file (this is the main source of truth.)\n",
    "\n",
    "swagger_to_sdk_config_file_name = 'swagger_to_sdk_config.json'\n",
    "\n",
    "swagger_to_sdk = helpers.request_helper(sdk_raw_url + swagger_to_sdk_config_file_name )\n",
    "#azure_projects = [helpers.get_azure_name_space_data(swagger_to_sdk['projects'][p]['swagger'])[0] for p in swagger_to_sdk['projects']]\n",
    "metadata= helpers.get_project_list_from_config(swagger_to_sdk)\n",
    "azure_projects, lookup_map, md_projects = metadata[0], metadata[1],metadata[2]\n",
    "azure_projects_no_duplicate = list(set(azure_projects))\n"
   ]
  },
  {
   "cell_type": "code",
   "execution_count": null,
   "metadata": {
    "collapsed": false
   },
   "outputs": [],
   "source": [
    "package = sdk_map['arm-cdn']['nuget_package']\n",
    "print package\n",
    "x = helpers.get_recent_from_nuget_v2(package)"
   ]
  },
  {
   "cell_type": "code",
   "execution_count": null,
   "metadata": {
    "collapsed": false
   },
   "outputs": [],
   "source": [
    "swagger_to_sdk['projects']['cdn']"
   ]
  },
  {
   "cell_type": "code",
   "execution_count": null,
   "metadata": {
    "collapsed": false
   },
   "outputs": [],
   "source": [
    "current_date = \"01-15-2016\"\n",
    "get_swagger_updates_v2(\"arm-cdn/2016-10-02/swagger/cdn.json\", git_url)"
   ]
  },
  {
   "cell_type": "code",
   "execution_count": null,
   "metadata": {
    "collapsed": false
   },
   "outputs": [],
   "source": [
    "helpers.get_key_folder_params_v3(git_url, \"arm-cdn\")"
   ]
  },
  {
   "cell_type": "code",
   "execution_count": null,
   "metadata": {
    "collapsed": false
   },
   "outputs": [],
   "source": [
    "helpers.get_new_project_names_v2(azure_projects_no_duplicate)"
   ]
  },
  {
   "cell_type": "code",
   "execution_count": null,
   "metadata": {
    "collapsed": false
   },
   "outputs": [],
   "source": [
    "#(azure-mgmt-trafficmanager)\n",
    "swagger_to_sdk['projects']['trafficmanager']"
   ]
  },
  {
   "cell_type": "code",
   "execution_count": 2,
   "metadata": {
    "collapsed": false
   },
   "outputs": [
    {
     "name": "stdout",
     "output_type": "stream",
     "text": [
      "{u'recoveryservicesbackup': {u'markdown': u'arm-recoveryservicesbackup/readme.md', u'autorest_options': {u'namespace': u'azure.mgmt.recoveryservicesbackup'}, u'output_dir': u'azure-mgmt-recoveryservicesbackup/azure/mgmt/recoveryservicesbackup', u'generated_relative_base_directory': u'Generated/Python/azure/mgmt/recoveryservicesbackup'}}\n"
     ]
    }
   ],
   "source": [
    "x = copy.deepcopy(swagger_to_sdk)\n",
    "for k,v in x['projects'].items():\n",
    "    if k !='recoveryservicesbackup':\n",
    "        del x['projects'][k]\n",
    "    \n",
    "print x['projects']"
   ]
  },
  {
   "cell_type": "code",
   "execution_count": 3,
   "metadata": {
    "collapsed": false
   },
   "outputs": [
    {
     "name": "stdout",
     "output_type": "stream",
     "text": [
      "arm-recoveryservicesbackup/2016-06-01\n",
      "arm-recoveryservicesbackup/2016-08-10\n",
      "arm-recoveryservicesbackup/2016-12-01\n",
      "arm-recoveryservicesbackup/readme.md\n"
     ]
    },
    {
     "name": "stderr",
     "output_type": "stream",
     "text": [
      "/Users/vik/miniconda/envs/conda2.7/lib/python2.7/site-packages/bs4/__init__.py:166: UserWarning: No parser was explicitly specified, so I'm using the best available HTML parser for this system (\"lxml\"). This usually isn't a problem, but if you run this code on another system, or in a different virtual environment, it may use a different parser and behave differently.\n",
      "\n",
      "To get rid of this warning, change this:\n",
      "\n",
      " BeautifulSoup([your markup])\n",
      "\n",
      "to this:\n",
      "\n",
      " BeautifulSoup([your markup], \"lxml\")\n",
      "\n",
      "  markup_type=markup_type))\n"
     ]
    },
    {
     "data": {
      "text/plain": [
       "(['2016-12-01', '2016-08-10'],\n",
       " ['2016-12-01/swagger/backupManagement.json',\n",
       "  '2016-08-10/swagger/operations.json'])"
      ]
     },
     "execution_count": 3,
     "metadata": {},
     "output_type": "execute_result"
    }
   ],
   "source": [
    "#helpers.get_changes_in_existing_projects(x, sdk_raw_url, assumed_current_date, lookup_map)\n",
    "helpers.parse_swagger_to_sdk_config(swagger_to_sdk['projects']['recoveryservicesbackup'])\n",
    "lookup_map['recoveryservicesbackup']\n",
    "helpers.get_key_folder_params_v3(git_url, \"arm-recoveryservicesbackup\")\n",
    "helpers.parse_markdown_from_spec('arm-recoveryservicesbackup/readme.md')\n"
   ]
  },
  {
   "cell_type": "code",
   "execution_count": 4,
   "metadata": {
    "collapsed": false
   },
   "outputs": [
    {
     "name": "stdout",
     "output_type": "stream",
     "text": [
      "  Finding Changes for Project :recoveryservicesbackup\n",
      "azure-mgmt-recoveryservicesbackup/HISTORY.rst\n",
      "azure-mgmt-recoveryservicesbackup/MANIFEST.in\n",
      "azure-mgmt-recoveryservicesbackup/README.rst\n",
      "azure-mgmt-recoveryservicesbackup/azure\n",
      "azure-mgmt-recoveryservicesbackup/azure_bdist_wheel.py\n",
      "azure-mgmt-recoveryservicesbackup/setup.cfg\n",
      "azure-mgmt-recoveryservicesbackup/setup.py\n",
      "arm-recoveryservicesbackup/2016-06-01\n",
      "arm-recoveryservicesbackup/2016-08-10\n",
      "arm-recoveryservicesbackup/2016-12-01\n",
      "arm-recoveryservicesbackup/readme.md\n",
      "arm-recoveryservicesbackup/2016-06-01\n",
      "arm-recoveryservicesbackup/2016-08-10\n",
      "arm-recoveryservicesbackup/2016-12-01\n",
      "arm-recoveryservicesbackup/readme.md\n",
      "   COMPOSITE_SWAGGER arm-recoveryservicesbackup/readme.md\n"
     ]
    },
    {
     "ename": "ValueError",
     "evalue": "No JSON object could be decoded",
     "output_type": "error",
     "traceback": [
      "\u001b[0;31m---------------------------------------------------------------------------\u001b[0m",
      "\u001b[0;31mValueError\u001b[0m                                Traceback (most recent call last)",
      "\u001b[0;32m<ipython-input-4-c41c8d510757>\u001b[0m in \u001b[0;36m<module>\u001b[0;34m()\u001b[0m\n\u001b[0;32m----> 1\u001b[0;31m \u001b[0mhelpers\u001b[0m\u001b[0;34m.\u001b[0m\u001b[0mget_changes_in_existing_projects\u001b[0m\u001b[0;34m(\u001b[0m\u001b[0mx\u001b[0m\u001b[0;34m,\u001b[0m \u001b[0msdk_raw_url\u001b[0m\u001b[0;34m,\u001b[0m \u001b[0massumed_current_date\u001b[0m\u001b[0;34m,\u001b[0m \u001b[0mlookup_map\u001b[0m\u001b[0;34m)\u001b[0m\u001b[0;34m\u001b[0m\u001b[0m\n\u001b[0m",
      "\u001b[0;32m/Users/vik/Documents/web/python/projects/azure/python-sdk-git/sdkflask/cron/helpers.pyc\u001b[0m in \u001b[0;36mget_changes_in_existing_projects\u001b[0;34m(swagger_to_sdk, sdk_raw_url, assumed_current_date, lookup_map)\u001b[0m\n\u001b[1;32m   1076\u001b[0m         \u001b[0;31m#print azure_api_name, c_composite, c_swagger, c_recent_date\u001b[0m\u001b[0;34m\u001b[0m\u001b[0;34m\u001b[0m\u001b[0m\n\u001b[1;32m   1077\u001b[0m \u001b[0;34m\u001b[0m\u001b[0m\n\u001b[0;32m-> 1078\u001b[0;31m         \u001b[0mget_changes\u001b[0m \u001b[0;34m=\u001b[0m \u001b[0mget_changes_for_project\u001b[0m\u001b[0;34m(\u001b[0m\u001b[0mazure_api_name\u001b[0m\u001b[0;34m,\u001b[0m \u001b[0mc_composite\u001b[0m\u001b[0;34m,\u001b[0m \u001b[0mcurrent_swagger_path\u001b[0m \u001b[0;34m,\u001b[0m \u001b[0mc_recent_date\u001b[0m\u001b[0;34m)\u001b[0m\u001b[0;34m\u001b[0m\u001b[0m\n\u001b[0m\u001b[1;32m   1079\u001b[0m \u001b[0;34m\u001b[0m\u001b[0m\n\u001b[1;32m   1080\u001b[0m         \u001b[0;31m#print get_changes\u001b[0m\u001b[0;34m\u001b[0m\u001b[0;34m\u001b[0m\u001b[0m\n",
      "\u001b[0;32m/Users/vik/Documents/web/python/projects/azure/python-sdk-git/sdkflask/cron/helpers.pyc\u001b[0m in \u001b[0;36mget_changes_for_project\u001b[0;34m(azure_api_name, c_composite, current_swagger_path, c_recent_date)\u001b[0m\n\u001b[1;32m    757\u001b[0m                     \u001b[0mcfile\u001b[0m \u001b[0;34m=\u001b[0m \u001b[0mNone\u001b[0m\u001b[0;34m\u001b[0m\u001b[0m\n\u001b[1;32m    758\u001b[0m \u001b[0;34m\u001b[0m\u001b[0m\n\u001b[0;32m--> 759\u001b[0;31m                     \u001b[0mcfile_document\u001b[0m\u001b[0;34m=\u001b[0m \u001b[0mrequest_helper\u001b[0m\u001b[0;34m(\u001b[0m\u001b[0mraw_url\u001b[0m \u001b[0;34m+\u001b[0m \u001b[0mcurrent_swagger_path\u001b[0m\u001b[0;34m)\u001b[0m\u001b[0;34m\u001b[0m\u001b[0m\n\u001b[0m\u001b[1;32m    760\u001b[0m                     \u001b[0;32mif\u001b[0m \u001b[0mcfile_document\u001b[0m\u001b[0;34m.\u001b[0m\u001b[0mget\u001b[0m\u001b[0;34m(\u001b[0m\u001b[0;34m'documents'\u001b[0m\u001b[0;34m)\u001b[0m\u001b[0;34m:\u001b[0m\u001b[0;34m\u001b[0m\u001b[0m\n\u001b[1;32m    761\u001b[0m                         \u001b[0mcfile\u001b[0m \u001b[0;34m=\u001b[0m \u001b[0mcfile_document\u001b[0m\u001b[0;34m.\u001b[0m\u001b[0mget\u001b[0m\u001b[0;34m(\u001b[0m\u001b[0;34m'documents'\u001b[0m\u001b[0;34m)\u001b[0m\u001b[0;34m\u001b[0m\u001b[0m\n",
      "\u001b[0;32m/Users/vik/Documents/web/python/projects/azure/python-sdk-git/sdkflask/cron/helpers.pyc\u001b[0m in \u001b[0;36mrequest_helper\u001b[0;34m(url, access_token)\u001b[0m\n\u001b[1;32m    276\u001b[0m \u001b[0;34m\u001b[0m\u001b[0m\n\u001b[1;32m    277\u001b[0m     \u001b[0;32melse\u001b[0m\u001b[0;34m:\u001b[0m\u001b[0;34m\u001b[0m\u001b[0m\n\u001b[0;32m--> 278\u001b[0;31m         \u001b[0;32mreturn\u001b[0m \u001b[0mr\u001b[0m\u001b[0;34m.\u001b[0m\u001b[0mjson\u001b[0m\u001b[0;34m(\u001b[0m\u001b[0;34m)\u001b[0m\u001b[0;34m\u001b[0m\u001b[0m\n\u001b[0m\u001b[1;32m    279\u001b[0m \u001b[0;34m\u001b[0m\u001b[0m\n\u001b[1;32m    280\u001b[0m \u001b[0;34m\u001b[0m\u001b[0m\n",
      "\u001b[0;32m/Users/vik/miniconda/envs/conda2.7/lib/python2.7/site-packages/requests/models.pyc\u001b[0m in \u001b[0;36mjson\u001b[0;34m(self, **kwargs)\u001b[0m\n\u001b[1;32m    803\u001b[0m                     \u001b[0;31m# used.\u001b[0m\u001b[0;34m\u001b[0m\u001b[0;34m\u001b[0m\u001b[0m\n\u001b[1;32m    804\u001b[0m                     \u001b[0;32mpass\u001b[0m\u001b[0;34m\u001b[0m\u001b[0m\n\u001b[0;32m--> 805\u001b[0;31m         \u001b[0;32mreturn\u001b[0m \u001b[0mcomplexjson\u001b[0m\u001b[0;34m.\u001b[0m\u001b[0mloads\u001b[0m\u001b[0;34m(\u001b[0m\u001b[0mself\u001b[0m\u001b[0;34m.\u001b[0m\u001b[0mtext\u001b[0m\u001b[0;34m,\u001b[0m \u001b[0;34m**\u001b[0m\u001b[0mkwargs\u001b[0m\u001b[0;34m)\u001b[0m\u001b[0;34m\u001b[0m\u001b[0m\n\u001b[0m\u001b[1;32m    806\u001b[0m \u001b[0;34m\u001b[0m\u001b[0m\n\u001b[1;32m    807\u001b[0m     \u001b[0;34m@\u001b[0m\u001b[0mproperty\u001b[0m\u001b[0;34m\u001b[0m\u001b[0m\n",
      "\u001b[0;32m/Users/vik/miniconda/envs/conda2.7/lib/python2.7/json/__init__.pyc\u001b[0m in \u001b[0;36mloads\u001b[0;34m(s, encoding, cls, object_hook, parse_float, parse_int, parse_constant, object_pairs_hook, **kw)\u001b[0m\n\u001b[1;32m    337\u001b[0m             \u001b[0mparse_int\u001b[0m \u001b[0;32mis\u001b[0m \u001b[0mNone\u001b[0m \u001b[0;32mand\u001b[0m \u001b[0mparse_float\u001b[0m \u001b[0;32mis\u001b[0m \u001b[0mNone\u001b[0m \u001b[0;32mand\u001b[0m\u001b[0;34m\u001b[0m\u001b[0m\n\u001b[1;32m    338\u001b[0m             parse_constant is None and object_pairs_hook is None and not kw):\n\u001b[0;32m--> 339\u001b[0;31m         \u001b[0;32mreturn\u001b[0m \u001b[0m_default_decoder\u001b[0m\u001b[0;34m.\u001b[0m\u001b[0mdecode\u001b[0m\u001b[0;34m(\u001b[0m\u001b[0ms\u001b[0m\u001b[0;34m)\u001b[0m\u001b[0;34m\u001b[0m\u001b[0m\n\u001b[0m\u001b[1;32m    340\u001b[0m     \u001b[0;32mif\u001b[0m \u001b[0mcls\u001b[0m \u001b[0;32mis\u001b[0m \u001b[0mNone\u001b[0m\u001b[0;34m:\u001b[0m\u001b[0;34m\u001b[0m\u001b[0m\n\u001b[1;32m    341\u001b[0m         \u001b[0mcls\u001b[0m \u001b[0;34m=\u001b[0m \u001b[0mJSONDecoder\u001b[0m\u001b[0;34m\u001b[0m\u001b[0m\n",
      "\u001b[0;32m/Users/vik/miniconda/envs/conda2.7/lib/python2.7/json/decoder.pyc\u001b[0m in \u001b[0;36mdecode\u001b[0;34m(self, s, _w)\u001b[0m\n\u001b[1;32m    362\u001b[0m \u001b[0;34m\u001b[0m\u001b[0m\n\u001b[1;32m    363\u001b[0m         \"\"\"\n\u001b[0;32m--> 364\u001b[0;31m         \u001b[0mobj\u001b[0m\u001b[0;34m,\u001b[0m \u001b[0mend\u001b[0m \u001b[0;34m=\u001b[0m \u001b[0mself\u001b[0m\u001b[0;34m.\u001b[0m\u001b[0mraw_decode\u001b[0m\u001b[0;34m(\u001b[0m\u001b[0ms\u001b[0m\u001b[0;34m,\u001b[0m \u001b[0midx\u001b[0m\u001b[0;34m=\u001b[0m\u001b[0m_w\u001b[0m\u001b[0;34m(\u001b[0m\u001b[0ms\u001b[0m\u001b[0;34m,\u001b[0m \u001b[0;36m0\u001b[0m\u001b[0;34m)\u001b[0m\u001b[0;34m.\u001b[0m\u001b[0mend\u001b[0m\u001b[0;34m(\u001b[0m\u001b[0;34m)\u001b[0m\u001b[0;34m)\u001b[0m\u001b[0;34m\u001b[0m\u001b[0m\n\u001b[0m\u001b[1;32m    365\u001b[0m         \u001b[0mend\u001b[0m \u001b[0;34m=\u001b[0m \u001b[0m_w\u001b[0m\u001b[0;34m(\u001b[0m\u001b[0ms\u001b[0m\u001b[0;34m,\u001b[0m \u001b[0mend\u001b[0m\u001b[0;34m)\u001b[0m\u001b[0;34m.\u001b[0m\u001b[0mend\u001b[0m\u001b[0;34m(\u001b[0m\u001b[0;34m)\u001b[0m\u001b[0;34m\u001b[0m\u001b[0m\n\u001b[1;32m    366\u001b[0m         \u001b[0;32mif\u001b[0m \u001b[0mend\u001b[0m \u001b[0;34m!=\u001b[0m \u001b[0mlen\u001b[0m\u001b[0;34m(\u001b[0m\u001b[0ms\u001b[0m\u001b[0;34m)\u001b[0m\u001b[0;34m:\u001b[0m\u001b[0;34m\u001b[0m\u001b[0m\n",
      "\u001b[0;32m/Users/vik/miniconda/envs/conda2.7/lib/python2.7/json/decoder.pyc\u001b[0m in \u001b[0;36mraw_decode\u001b[0;34m(self, s, idx)\u001b[0m\n\u001b[1;32m    380\u001b[0m             \u001b[0mobj\u001b[0m\u001b[0;34m,\u001b[0m \u001b[0mend\u001b[0m \u001b[0;34m=\u001b[0m \u001b[0mself\u001b[0m\u001b[0;34m.\u001b[0m\u001b[0mscan_once\u001b[0m\u001b[0;34m(\u001b[0m\u001b[0ms\u001b[0m\u001b[0;34m,\u001b[0m \u001b[0midx\u001b[0m\u001b[0;34m)\u001b[0m\u001b[0;34m\u001b[0m\u001b[0m\n\u001b[1;32m    381\u001b[0m         \u001b[0;32mexcept\u001b[0m \u001b[0mStopIteration\u001b[0m\u001b[0;34m:\u001b[0m\u001b[0;34m\u001b[0m\u001b[0m\n\u001b[0;32m--> 382\u001b[0;31m             \u001b[0;32mraise\u001b[0m \u001b[0mValueError\u001b[0m\u001b[0;34m(\u001b[0m\u001b[0;34m\"No JSON object could be decoded\"\u001b[0m\u001b[0;34m)\u001b[0m\u001b[0;34m\u001b[0m\u001b[0m\n\u001b[0m\u001b[1;32m    383\u001b[0m         \u001b[0;32mreturn\u001b[0m \u001b[0mobj\u001b[0m\u001b[0;34m,\u001b[0m \u001b[0mend\u001b[0m\u001b[0;34m\u001b[0m\u001b[0m\n",
      "\u001b[0;31mValueError\u001b[0m: No JSON object could be decoded"
     ]
    }
   ],
   "source": [
    "helpers.get_changes_in_existing_projects(x, sdk_raw_url, assumed_current_date, lookup_map)"
   ]
  },
  {
   "cell_type": "code",
   "execution_count": null,
   "metadata": {
    "collapsed": true
   },
   "outputs": [],
   "source": [
    "def get_changes_for_project_v2(azure_api_name, c_composite, current_swagger_path , c_recent_date):\n",
    "    \n",
    "    \"\"\"\n",
    "    retruns the changes (if any there would be a key == 'changes' in the returned dictionary object) for a given project. Use this function when\n",
    "    there is 1-1 mapping between the SDK project and the azure API spec folder. (only 1 sdk project for a given AZURE API spec folder)\n",
    "    \"\"\"\n",
    "    #azure_api_name, c_composite, c_swagger, c_ind_swagger_list = None, c_recent_date = None \n",
    "    \n",
    "    return_dict = {}\n",
    "    \n",
    "    return_dict['errors'] = {}\n",
    "\n",
    "    params = get_key_folder_params_v3(git_url,azure_api_name)\n",
    "\n",
    "    if not params:\n",
    "        return_dict['errors'] = 'Project ' + azure_api_name +' not found. Probably private' \n",
    "        #existing_changes['errors'][i] = 'Project ' + azure_api_name +' not found. Probably private'\n",
    "\n",
    "        return return_dict\n",
    "\n",
    "    else:\n",
    "        is_composite, folders, swagger = params\n",
    "\n",
    "        if c_composite =='Composite':\n",
    "            current_composite = 'Yes'\n",
    "            c_recent_folder = 'No'\n",
    "\n",
    "        else:\n",
    "            c_recent_folder = c_composite\n",
    "            current_composite = 'No'\n",
    "\n",
    "\n",
    "        #check changes in composite status. \n",
    "        if is_composite != current_composite:\n",
    "            #project composite status has changed. \n",
    "\n",
    "            changes = get_swagger_updates_v2(swagger, git_url=git_url) \n",
    "            changes['use_swagger'] = swagger\n",
    "\n",
    "            if current_composite ==\"Yes\":\n",
    "                #is_composite is NO\n",
    "\n",
    "                print(azure_api_name + 'has changed to Composite to --> non composite')  \n",
    "\n",
    "                #get the details for this swagger file and update the details. \n",
    "\n",
    "                changes['change_type'] = \"CompositeStatus\"\n",
    "                changes['change_status'] = \"Moved to a non - composite swagger\"\n",
    "                return_dict['changes'] = changes\n",
    "\n",
    "\n",
    "            else:\n",
    "                #moved to a composite swagger. get all lower level swagger details if possible. \n",
    "\n",
    "                print('    ' + azure_api_name + ' :Moved to a composite swagger')\n",
    "                changes['change_type'] = \"CompositeStatus\"\n",
    "                changes['change_status'] = \"Moved to a composite swagger\"\n",
    "\n",
    "                return_dict['changes']= changes\n",
    "\n",
    "        #check if folder is the same \n",
    "        else:     \n",
    "            if is_composite =='No': \n",
    "                #there must be folders. \n",
    "                if len(folders) > 0: \n",
    "                    latest_folder = folders[-1]\n",
    "                    if c_recent_folder != latest_folder:\n",
    "                        print('    ' + azure_api_name + ' :has a new folder : ' + latest_folder)\n",
    "\n",
    "                        changes = get_swagger_updates_v2(swagger, git_url=git_url)\n",
    "                        changes['use_swagger'] = swagger\n",
    "                        changes['change_type'] = \"Folder\"\n",
    "                        changes['new_folder'] = latest_folder\n",
    "                        return_dict['changes'] =changes\n",
    "\n",
    "                    else:\n",
    "                        #most proable scenario : check for swagger update. \n",
    "\n",
    "                        if current_swagger_path != swagger:\n",
    "                            print ('    ' + azure_api_name + ':swagger not found')\n",
    "                            #print(current_swagger_path, swagger)\n",
    "\n",
    "                        else:\n",
    "                            #get the current sha of from the recent date. \n",
    "\n",
    "                            changes = get_swagger_updates_v2(current_swagger_path, git_url=git_url, current_date=c_recent_date)\n",
    "\n",
    "                            if changes['swagger_behind'] >0:\n",
    "                                changes['change_type'] = \"SwaggerUpdate\"\n",
    "                                return_dict['changes'] = changes\n",
    "\n",
    "\n",
    "            else:\n",
    "                print ('   COMPOSITE_SWAGGER ' + current_swagger_path)\n",
    "\n",
    "                if not current_swagger_path:\n",
    "                        print (azure_api_name + '..swagger not found')\n",
    "                else:\n",
    "                    # check for the update in main composite file first \n",
    "                    changes_composite = get_swagger_updates_v2(current_swagger_path, git_url=git_url, current_date=c_recent_date)\n",
    "\n",
    "                    if changes_composite['swagger_behind'] >0:\n",
    "                        changes ={}\n",
    "                        changes['change_type'] = \"SwaggerUpdate\"\n",
    "                        return_dict['changes'] = changes\n",
    "\n",
    "                    # check for the update in main composite file first                 \n",
    "                    #get the full file and individual paths from the composite file. \n",
    "                    #raw_url = 'https://raw.githubusercontent.com/Azure/azure-rest-api-specs/master/' \n",
    "\n",
    "                    cfile= request_helper(raw_url + current_swagger_path)\n",
    "                    \n",
    "                    if current_swagger_path.endwith('.md'): #pungi. \n",
    "                        cfile = ''\n",
    "                        \n",
    "\n",
    "                    if not cfile:\n",
    "                        #current swagger file not found. \n",
    "                        return_dict['errors'][cfile] =  'swagger_file: ' + current_swagger_path +' not found' \n",
    "\n",
    "\n",
    "                    if cfile and cfile.get('documents'):\n",
    "\n",
    "                        for f in cfile.get('documents'):\n",
    "                            #get file history \n",
    "                            ind_swagger = azure_api_name + f[1:]\n",
    "                            #print ('IND_SWAGGER' + ind_swagger)\n",
    "                            \n",
    "                            changes_ind_file = get_swagger_updates_v2(ind_swagger, git_url=git_url, current_date=c_recent_date)\n",
    "\n",
    "                            #catch any errors. \n",
    "\n",
    "                            if not changes_ind_file:\n",
    "                                return_dict['errors'] = ind_swagger + ' swagger_file : ' + ind_swagger +' not found'\n",
    "\n",
    "                            if changes_ind_file and changes_ind_file['swagger_behind'] >0:\n",
    "\n",
    "                                if return_dict.get('changes'):\n",
    "                                    if not return_dict['changes'].get('ind_changes'):\n",
    "                                        return_dict['changes']['ind_changes'] = {}\n",
    "                                        return_dict['changes']['ind_changes'][ind_swagger] = changes_ind_file\n",
    "                                    else:\n",
    "                                            return_dict['changes']['ind_changes'][ind_swagger] = changes_ind_file\n",
    "\n",
    "\n",
    "                            #d[ind_swagger] = {'sha' : file_data['commit_sha'], 'dates': file_data['file_dates']}\n",
    "\n",
    "        #print('CHANGES')\n",
    "\n",
    "        if not sdk_map.get(azure_api_name):\n",
    "            return_dict['nuget_info'] = {}\n",
    "            print('    No Nuget URL Map for azure api: ' + azure_api_name)\n",
    "\n",
    "        else:\n",
    "            nuget_package = sdk_map[azure_api_name].get('nuget_package')\n",
    "            if nuget_package:\n",
    "                return_dict['nuget_info'] = get_recent_from_nuget_v2(nuget_package) or 'Nuget info not found.'\n",
    "            else:\n",
    "                return_dict['nuget_info'] = {}\n",
    "                print('   No Nuget URL Map for azure api: ' + azure_api_name)\n",
    "    \n",
    "    print return_dict\n",
    "    return return_dict"
   ]
  },
  {
   "cell_type": "code",
   "execution_count": null,
   "metadata": {
    "collapsed": false
   },
   "outputs": [],
   "source": [
    "get_changes_in_existing_projects(x, sdk_raw_url, assumed_current_date, \"\")"
   ]
  },
  {
   "cell_type": "code",
   "execution_count": null,
   "metadata": {
    "collapsed": true
   },
   "outputs": [],
   "source": []
  }
 ],
 "metadata": {
  "kernelspec": {
   "display_name": "Python 2",
   "language": "python",
   "name": "python2"
  },
  "language_info": {
   "codemirror_mode": {
    "name": "ipython",
    "version": 2
   },
   "file_extension": ".py",
   "mimetype": "text/x-python",
   "name": "python",
   "nbconvert_exporter": "python",
   "pygments_lexer": "ipython2",
   "version": "2.7.13"
  }
 },
 "nbformat": 4,
 "nbformat_minor": 0
}
