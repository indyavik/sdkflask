{
 "cells": [
  {
   "cell_type": "code",
   "execution_count": 1,
   "metadata": {
    "collapsed": false
   },
   "outputs": [
    {
     "name": "stdout",
     "output_type": "stream",
     "text": [
      "md project : arm-recoveryservicesbackup\n"
     ]
    }
   ],
   "source": [
    "import os, json,shutil\n",
    "import requests\n",
    "import random\n",
    "from bs4 import BeautifulSoup\n",
    "import time\n",
    "from time import gmtime, strftime\n",
    "from datetime import datetime\n",
    "from cron import helpers\n",
    "import yaml\n",
    "import mistune\n",
    "\n",
    "#globals (via a config later on)\n",
    "git_url = 'https://api.github.com/repos/Azure/azure-rest-api-specs/'\n",
    "raw_url = 'https://raw.githubusercontent.com/Azure/azure-rest-api-specs/master/' \n",
    "sdk_raw_url = 'https://raw.githubusercontent.com/Azure/azure-sdk-for-python/master/'\n",
    "swagger_to_sdk_config_file_name = 'swagger_to_sdk_config.json'\n",
    "assumed_current_date = '2017-04-01' #all packages without build.json are assued to be current as of  04-01\n",
    "sdk_url = 'https://api.github.com/repos/Azure/azure-sdk-for-python/'\n",
    "\n",
    "\"\"\"\n",
    "Key Definitions:\n",
    "project: Key in swagger_to_sdk_config. Example 'cdn', 'batch.management' , 'billing' \n",
    "sdk or sdk_name: Name of the corresponding project as in azure-sdk-for-python repo. Example 'azure-mgt-cdn', 'azure-mgmt-batch' \n",
    "azure_api_name (or azure_project) : Name of the corresponding project in azure-rest-api-specs repo. Example 'arm-cdn'\n",
    "\n",
    "\"\"\"\n",
    "\n",
    "with open('config/api2sdk2nuget.json', 'r') as f:\n",
    "    map_object = json.load(f)\n",
    "\n",
    "    sdk_map = map_object\n",
    "\n",
    "#get existing projects from swagger_to_sdk config file (this is the main source of truth.)\n",
    "\n",
    "swagger_to_sdk_config_file_name = 'swagger_to_sdk_config.json'\n",
    "\n",
    "\n",
    "swagger_to_sdk = helpers.request_helper(sdk_raw_url + swagger_to_sdk_config_file_name )\n",
    "#azure_projects = [helpers.get_azure_name_space_data(swagger_to_sdk['projects'][p]['swagger'])[0] for p in swagger_to_sdk['projects']]\n",
    "metadata= helpers.get_project_list_from_config(swagger_to_sdk)\n",
    "azure_projects, lookup_map, md_projects = metadata[0], metadata[1],metadata[2]\n",
    "azure_projects_no_duplicate = list(set(azure_projects))\n"
   ]
  },
  {
   "cell_type": "code",
   "execution_count": 4,
   "metadata": {
    "collapsed": false
   },
   "outputs": [
    {
     "data": {
      "text/plain": [
       "[u'arm-recoveryservicesbackup']"
      ]
     },
     "execution_count": 4,
     "metadata": {},
     "output_type": "execute_result"
    }
   ],
   "source": [
    "md_projects"
   ]
  },
  {
   "cell_type": "code",
   "execution_count": 3,
   "metadata": {
    "collapsed": false
   },
   "outputs": [
    {
     "ename": "AttributeError",
     "evalue": "'NoneType' object has no attribute 'get'",
     "output_type": "error",
     "traceback": [
      "\u001b[0;31m---------------------------------------------------------------------------\u001b[0m",
      "\u001b[0;31mAttributeError\u001b[0m                            Traceback (most recent call last)",
      "\u001b[0;32m<ipython-input-3-35f635a95a5c>\u001b[0m in \u001b[0;36m<module>\u001b[0;34m()\u001b[0m\n\u001b[1;32m      1\u001b[0m \u001b[0;32mfor\u001b[0m \u001b[0mp\u001b[0m \u001b[0;32min\u001b[0m \u001b[0mmd_projects\u001b[0m\u001b[0;34m:\u001b[0m\u001b[0;34m\u001b[0m\u001b[0m\n\u001b[0;32m----> 2\u001b[0;31m     \u001b[0mchanges\u001b[0m \u001b[0;34m=\u001b[0m \u001b[0mhelpers\u001b[0m\u001b[0;34m.\u001b[0m\u001b[0mget_changes_for_md_projects\u001b[0m\u001b[0;34m(\u001b[0m\u001b[0mswagger_to_sdk\u001b[0m\u001b[0;34m[\u001b[0m\u001b[0;34m'projects'\u001b[0m\u001b[0;34m]\u001b[0m\u001b[0;34m.\u001b[0m\u001b[0mget\u001b[0m\u001b[0;34m(\u001b[0m\u001b[0mp\u001b[0m\u001b[0;34m)\u001b[0m\u001b[0;34m,\u001b[0m \u001b[0msdk_map\u001b[0m\u001b[0;34m)\u001b[0m\u001b[0;34m\u001b[0m\u001b[0m\n\u001b[0m\u001b[1;32m      3\u001b[0m     \u001b[0;32mprint\u001b[0m \u001b[0mchanges\u001b[0m\u001b[0;34m\u001b[0m\u001b[0m\n",
      "\u001b[0;32m/Users/vik/Documents/web/python/projects/azure/python-sdk-git/sdkflask/cron/helpers.py\u001b[0m in \u001b[0;36mget_changes_for_md_projects\u001b[0;34m(project, sdk_map)\u001b[0m\n\u001b[1;32m    565\u001b[0m \u001b[0;34m\u001b[0m\u001b[0m\n\u001b[1;32m    566\u001b[0m     \u001b[0;31m#project = swagger_to_sdk['projects'].get('recoveryservicesbackup')\u001b[0m\u001b[0;34m\u001b[0m\u001b[0;34m\u001b[0m\u001b[0m\n\u001b[0;32m--> 567\u001b[0;31m     \u001b[0mmarkdown_path\u001b[0m \u001b[0;34m=\u001b[0m \u001b[0mproject\u001b[0m\u001b[0;34m.\u001b[0m\u001b[0mget\u001b[0m\u001b[0;34m(\u001b[0m\u001b[0;34m'markdown'\u001b[0m\u001b[0;34m)\u001b[0m\u001b[0;34m\u001b[0m\u001b[0m\n\u001b[0m\u001b[1;32m    568\u001b[0m     \u001b[0mazure_api_name\u001b[0m \u001b[0;34m=\u001b[0m \u001b[0mmarkdown_path\u001b[0m\u001b[0;34m.\u001b[0m\u001b[0msplit\u001b[0m\u001b[0;34m(\u001b[0m\u001b[0;34m\"/\"\u001b[0m\u001b[0;34m)\u001b[0m\u001b[0;34m[\u001b[0m\u001b[0;36m0\u001b[0m\u001b[0;34m]\u001b[0m\u001b[0;34m\u001b[0m\u001b[0m\n\u001b[1;32m    569\u001b[0m     \u001b[0;32mprint\u001b[0m \u001b[0mazure_api_name\u001b[0m\u001b[0;34m\u001b[0m\u001b[0m\n",
      "\u001b[0;31mAttributeError\u001b[0m: 'NoneType' object has no attribute 'get'"
     ]
    }
   ],
   "source": [
    "for p in md_projects:\n",
    "    changes = helpers.get_changes_for_md_projects(swagger_to_sdk['projects'].get(p), sdk_map)\n",
    "    print changes"
   ]
  },
  {
   "cell_type": "code",
   "execution_count": null,
   "metadata": {
    "collapsed": false
   },
   "outputs": [],
   "source": [
    "azure_projects = []\n",
    "composite_projects =[]\n",
    "md_projects = []\n",
    "normal_projects = [] \n",
    "\n",
    "for p in swagger_to_sdk['projects']:\n",
    "    project = swagger_to_sdk['projects'][p]\n",
    "    autorest_options = project.get('autorest_options')\n",
    "    #print autorest_options\n",
    "    if autorest_options:\n",
    "        swagger = autorest_options.get('input-file')\n",
    "        if swagger:\n",
    "            azure_project = helpers.get_azure_name_space_data(swagger)[0]\n",
    "            azure_projects.append(azure_project)\n",
    "            normal_projects.append(azure_project)\n",
    "            \n",
    "        else:\n",
    "            #is a composite \n",
    "            composite = project.get(\"composite\")\n",
    "            if composite:\n",
    "                azure_project = helpers.get_azure_name_space_data(composite)[0]\n",
    "                azure_projects.append(azure_project)\n",
    "                composite_projects.append(azure_project)\n",
    "                \n",
    "            else:\n",
    "                print(\"   Error: no link to a file: sdk_config seems to have changed for project =\" + p)    \n",
    "    else:\n",
    "        #new type. look for md. \n",
    "        md = project.get('markdown')\n",
    "        if md:\n",
    "            azure_project = helpers.get_azure_name_space_data(md)[0]\n",
    "            azure_projects.append(azure_project)\n",
    "            md_projects.append(azure_project)\n",
    "            print 'md project : ' + azure_project\n",
    "        else:\n",
    "            print(\"   Error: no link to a file found: sdk_config seems to have changed for project =\" + p) \n",
    "            \n",
    "    \n",
    "        \"\"\"\n",
    "        if :\n",
    "            swagger = autorest_options.get('input-file')\n",
    "            #print swagger\n",
    "            print p, helpers.get_azure_name_space_data(swagger)\n",
    "        \"\"\"\n",
    "        \n",
    "    \n",
    "    \n",
    "print (len(azure_projects))"
   ]
  },
  {
   "cell_type": "code",
   "execution_count": null,
   "metadata": {
    "collapsed": false
   },
   "outputs": [],
   "source": [
    "x = swagger_to_sdk['projects']['devtestlabs'].get('autorest_options')\n",
    "x['input-file']"
   ]
  },
  {
   "cell_type": "code",
   "execution_count": null,
   "metadata": {
    "collapsed": true
   },
   "outputs": [],
   "source": [
    "def x(a):\n",
    "    def y():\n",
    "        return a+1\n",
    "    \n",
    "    return y()\n",
    "    \n",
    "    "
   ]
  },
  {
   "cell_type": "code",
   "execution_count": null,
   "metadata": {
    "collapsed": false
   },
   "outputs": [],
   "source": [
    "azure_projects = []\n",
    "composite_projects =[]\n",
    "md_projects = []\n",
    "normal_projects = [] \n",
    "\n",
    "d={}\n",
    "\n",
    "for p in swagger_to_sdk['projects']:\n",
    "    project = swagger_to_sdk['projects'][p]\n",
    "    autorest_options = project.get('autorest_options')\n",
    "    #print autorest_options\n",
    "    if autorest_options:\n",
    "        swagger = autorest_options.get('input-file')\n",
    "        if swagger:\n",
    "            azure_project = helpers.get_azure_name_space_data(swagger)[0]\n",
    "            azure_projects.append(azure_project)\n",
    "            normal_projects.append(azure_project)\n",
    "            d[p] = [swagger, azure_project]\n",
    "\n",
    "        else:\n",
    "            #is a composite \n",
    "            composite = project.get(\"composite\")\n",
    "            if composite:\n",
    "                azure_project = helpers.get_azure_name_space_data(composite)[0]\n",
    "                azure_projects.append(azure_project)\n",
    "                composite_projects.append(azure_project)\n",
    "                d[p] = [composite, azure_project]\n",
    "\n",
    "            else:\n",
    "                print(\"   Error: no link to a file: sdk_config seems to have changed for project =\" + p)    \n",
    "    else:\n",
    "        #new type. look for md. \n",
    "        md = project.get('markdown')\n",
    "        if md:\n",
    "            azure_project = helpers.get_azure_name_space_data(md)[0]\n",
    "            azure_projects.append(azure_project)\n",
    "            md_projects.append(azure_project)\n",
    "            d[p] = [swagger, azure_project]\n",
    "            print 'md project : ' + azure_project\n",
    "        else:\n",
    "            print(\"   Error: no link to a file found: sdk_config seems to have changed for project =\" + p) \n",
    "\n",
    "print d"
   ]
  },
  {
   "cell_type": "code",
   "execution_count": null,
   "metadata": {
    "collapsed": false
   },
   "outputs": [],
   "source": [
    "d['web']"
   ]
  },
  {
   "cell_type": "code",
   "execution_count": null,
   "metadata": {
    "collapsed": false
   },
   "outputs": [],
   "source": [
    "swagger_to_sdk['projects']['recoveryservicesbackup']['']"
   ]
  },
  {
   "cell_type": "code",
   "execution_count": null,
   "metadata": {
    "collapsed": false
   },
   "outputs": [],
   "source": [
    "#changes_in_md()\n",
    "#file = arm-recoveryservicesbackup/readme.md\n",
    "helpers.get_python_sdk_build_info('azure-mgmt-authorization')"
   ]
  },
  {
   "cell_type": "code",
   "execution_count": null,
   "metadata": {
    "collapsed": false
   },
   "outputs": [],
   "source": [
    "\n",
    "\n",
    "    "
   ]
  },
  {
   "cell_type": "code",
   "execution_count": null,
   "metadata": {
    "collapsed": false
   },
   "outputs": [],
   "source": [
    "#f = requests.get(raw_url + 'arm-recoveryservicesbackup/readme.md')\n",
    "#markdown_file = f.text\n",
    "\n",
    "print(parse_markdown_from_spec('arm-recoveryservicesbackup/readme.md'))\n"
   ]
  },
  {
   "cell_type": "code",
   "execution_count": null,
   "metadata": {
    "collapsed": false
   },
   "outputs": [],
   "source": [
    "import mistune\n",
    "import yaml\n",
    "markdown = mistune.markdown(markdown_file)\n",
    "#print markdown\n",
    "soup = BeautifulSoup(markdown)\n",
    "code_blocks = soup.findAll(\"code\", class_ =\"lang-yaml\")\n",
    "#print code_blockst\n",
    "for c in code_blocks:\n",
    "    if 'input-file:' in c.text:\n",
    "        print c\n",
    "        data = yaml.load(c.text)\n",
    "        \n",
    "    #get folders and input files \n",
    "    folders, swaggers = [], []\n",
    "    for d in data['input-file']:\n",
    "        updated_path = d.split('/')[1:] #removes . -> /2016-12-01/swagger/backupManagement.json\n",
    "        folder, swagger_path = updated_path[0], '/'.join(updated_path)\n",
    "        folders.append(folder)\n",
    "        swaggers.append(swagger_path)\n",
    "\n"
   ]
  },
  {
   "cell_type": "code",
   "execution_count": null,
   "metadata": {
    "collapsed": true
   },
   "outputs": [],
   "source": [
    "text_data = \"\"\"input-file:\n",
    "  - ./2016-12-01/swagger/backupManagement.json\n",
    "  - ./2016-08-10/swagger/operations.json\n",
    "azure-arm: true\n",
    "license-header: MICROSOFT_MIT\"\"\""
   ]
  },
  {
   "cell_type": "code",
   "execution_count": null,
   "metadata": {
    "collapsed": false
   },
   "outputs": [],
   "source": [
    "def parse_markdown_from_spec(markdown_path):\n",
    "    \"\"\"\n",
    "    returns folders (sorted), and swaggers ([folder1, folder2], [swagger1, swagger2])\n",
    "    input = 'arm-recoveryservicesbackup/readme.md'\n",
    "    output = ''\n",
    "    \n",
    "    \"\"\"\n",
    "    mf = requests.get(raw_url + markdown_path)\n",
    "    if mf.status_code == 200:\n",
    "        markdown_file = mf.text\n",
    "        markdown = mistune.markdown(markdown_file)\n",
    "        #print markdown\n",
    "        soup = BeautifulSoup(markdown)\n",
    "        code_blocks = soup.findAll(\"code\", class_ =\"lang-yaml\")\n",
    "\n",
    "        for c in code_blocks:\n",
    "            if 'input-file:' in c.text:\n",
    "                data = yaml.load(c.text)\n",
    "            \n",
    "                #get folders and input files \n",
    "                folders, swaggers = [], []\n",
    "                for d in data['input-file']:\n",
    "                    updated_path = d.split('/')[1:] #removes . -> /2016-12-01/swagger/backupManagement.json\n",
    "                    folder, swagger_path = updated_path[0], '/'.join(updated_path)\n",
    "                    folders.append(folder)\n",
    "                    swaggers.append(swagger_path)\n",
    "                \n",
    "                return  (folders, swaggers)\n",
    "\n",
    "print(parse_markdown_from_spec('arm-recoveryservicesbackup/readme.md'))"
   ]
  },
  {
   "cell_type": "code",
   "execution_count": null,
   "metadata": {
    "collapsed": false
   },
   "outputs": [],
   "source": [
    "#changes = get_swagger_updates_v2(swagger, git_url=git_url)\n",
    "helpers.get_swagger_updates_v2('arm-recoveryservicesbackup/2016-12-01/swagger/backupManagement.json', git_url=git_url, current_date='04-15-2017')"
   ]
  },
  {
   "cell_type": "code",
   "execution_count": null,
   "metadata": {
    "collapsed": false,
    "scrolled": true
   },
   "outputs": [],
   "source": [
    "def parse_markdown_from_spec(markdown_path):\n",
    "    \"\"\"\n",
    "    returns folders (sorted), and swaggers ([folder1, folder2], [swagger1, swagger2])\n",
    "    input = 'arm-recoveryservicesbackup/readme.md'\n",
    "    output = changes dict project :{ 'meta' :{} , 'changes' : {}}\n",
    "    \n",
    "    \"\"\"\n",
    "    mf = requests.get(raw_url + markdown_path)\n",
    "    if mf.status_code == 200:\n",
    "        markdown_file = mf.text\n",
    "        markdown = mistune.markdown(markdown_file)\n",
    "        #print markdown\n",
    "        soup = BeautifulSoup(markdown)\n",
    "        code_blocks = soup.findAll(\"code\", class_ =\"lang-yaml\")\n",
    "\n",
    "        for c in code_blocks:\n",
    "            if 'input-file:' in c.text:\n",
    "                data = yaml.load(c.text)\n",
    "            \n",
    "                #get folders and input files \n",
    "                folders, swaggers = [], []\n",
    "                for d in data['input-file']:\n",
    "                    updated_path = d.split('/')[1:] #removes . -> /2016-12-01/swagger/backupManagement.json\n",
    "                    folder, swagger_path = updated_path[0], '/'.join(updated_path)\n",
    "                    folders.append(folder)\n",
    "                    swaggers.append(swagger_path)\n",
    "                \n",
    "                return  (folders, swaggers)\n",
    "            \n",
    "\n",
    "return_d = {}\n",
    "            \n",
    "project = swagger_to_sdk['projects'].get('recoveryservicesbackup')\n",
    "markdown_path = project.get('markdown')\n",
    "azure_api_name = markdown_path.split(\"/\")[0]\n",
    "print azure_api_name\n",
    "\n",
    "\n",
    "output_dir = project.get('output_dir')\n",
    "current_date = '04-15-2017'\n",
    "if output_dir:\n",
    "    sdk_name = output_dir.split('/')[0]\n",
    "    build_info = helpers.get_python_sdk_build_info(sdk_name) #helpers.get_python_sdk_build_info('azure-mgmt-authorization')\n",
    "    if build_info:\n",
    "        current_date = build_info.get('date')\n",
    "        \n",
    "\n",
    "return_d['meta'] = {'azure_api_name' : azure_api_name, 'current_swagger': markdown_path , 'recent_build_date': current_date, \n",
    "'sdk_proj_name' : project }\n",
    "\n",
    "\n",
    "markdown_info = parse_markdown_from_spec(markdown_path)\n",
    "print markdown_info\n",
    "if not markdown_info:\n",
    "    print(\"Error: No info could be retrived\")\n",
    "    #return \n",
    "\n",
    "\"\"\"\n",
    "{'azure-arm': True,\n",
    " 'input-file': ['./2016-12-01/swagger/backupManagement.json',\n",
    "  './2016-08-10/swagger/operations.json'],\n",
    " 'license-header': 'MICROSOFT_MIT'}\n",
    "\"\"\"\n",
    "\n",
    "folders, swagger = markdown_info[0], azure_api_name + '/' + markdown_info[1][0]\n",
    "return_d['meta']['composite_or_recent_folder']=markdown_info[0][0]\n",
    "\n",
    "changes = helpers.get_swagger_updates_v2(swagger, git_url=git_url, current_date='04-15-2017')\n",
    "\n",
    "if changes['swagger_behind'] > 0:\n",
    "    return_d['changes'] = changes\n",
    "\n",
    "#get nuget info \n",
    "\n",
    "if not sdk_map.get(azure_api_name):\n",
    "    return_d['nuget_info'] = {}\n",
    "    print('    No Nuget URL Map for azure api: ' + azure_api_name)\n",
    "\n",
    "else:\n",
    "    nuget_package = sdk_map[azure_api_name].get('nuget_package')\n",
    "    if nuget_package:\n",
    "        return_d['nuget_info'] = helpers.get_recent_from_nuget_v2(nuget_package) or 'Nuget info not found.'\n",
    "    else:\n",
    "        return_d['nuget_info'] = {}\n",
    "        print('   No Nuget URL Map for azure api: ' + azure_api_name)\n",
    "\n",
    "print return_d\n",
    "\n",
    "#there is nothing to check on folder at this time. assume latest folder is being used. \n",
    "\n",
    "    "
   ]
  },
  {
   "cell_type": "code",
   "execution_count": null,
   "metadata": {
    "collapsed": true
   },
   "outputs": [],
   "source": [
    "def get_changes_for_md_projects(project, sdk_map):\n",
    "    \n",
    "    return_d = {}\n",
    "            \n",
    "    #project = swagger_to_sdk['projects'].get('recoveryservicesbackup')\n",
    "    markdown_path = project.get('markdown')\n",
    "    azure_api_name = markdown_path.split(\"/\")[0]\n",
    "    print azure_api_name\n",
    "\n",
    "    output_dir = project.get('output_dir')\n",
    "    current_date = '04-15-2017'\n",
    "    if output_dir:\n",
    "        sdk_name = output_dir.split('/')[0]\n",
    "        build_info = helpers.get_python_sdk_build_info(sdk_name) #helpers.get_python_sdk_build_info('azure-mgmt-authorization')\n",
    "        if build_info:\n",
    "            current_date = build_info.get('date')\n",
    "\n",
    "\n",
    "    return_d['meta'] = {'azure_api_name' : azure_api_name, 'current_swagger': markdown_path , 'recent_build_date': current_date, \n",
    "    'sdk_proj_name' : project }\n",
    "\n",
    "\n",
    "    markdown_info = parse_markdown_from_spec(markdown_path)\n",
    "    print markdown_info\n",
    "    if not markdown_info:\n",
    "        print(\"Error: No info could be retrived\")\n",
    "        #return \n",
    "\n",
    "    \"\"\"\n",
    "    {'azure-arm': True,\n",
    "     'input-file': ['./2016-12-01/swagger/backupManagement.json',\n",
    "      './2016-08-10/swagger/operations.json'],\n",
    "     'license-header': 'MICROSOFT_MIT'}\n",
    "    \"\"\"\n",
    "\n",
    "    folders, swagger = markdown_info[0], azure_api_name + '/' + markdown_info[1][0]\n",
    "    return_d['meta']['composite_or_recent_folder']=markdown_info[0][0]\n",
    "\n",
    "    changes = helpers.get_swagger_updates_v2(swagger, git_url=git_url, current_date='04-15-2017')\n",
    "\n",
    "    if changes['swagger_behind'] > 0:\n",
    "        return_d['changes'] = changes\n",
    "\n",
    "    #get nuget info \n",
    "\n",
    "    if not sdk_map.get(azure_api_name):\n",
    "        return_d['nuget_info'] = {}\n",
    "        print('    No Nuget URL Map for azure api: ' + azure_api_name)\n",
    "\n",
    "    else:\n",
    "        nuget_package = sdk_map[azure_api_name].get('nuget_package')\n",
    "        if nuget_package:\n",
    "            return_d['nuget_info'] = helpers.get_recent_from_nuget_v2(nuget_package) or 'Nuget info not found.'\n",
    "        else:\n",
    "            return_d['nuget_info'] = {}\n",
    "            print('   No Nuget URL Map for azure api: ' + azure_api_name)\n",
    "\n",
    "    print return_d\n"
   ]
  },
  {
   "cell_type": "code",
   "execution_count": null,
   "metadata": {
    "collapsed": false
   },
   "outputs": [],
   "source": [
    "print (get_changes_for_md_projects(swagger_to_sdk['projects'].get('recoveryservicesbackup'), sdk_map))"
   ]
  },
  {
   "cell_type": "code",
   "execution_count": null,
   "metadata": {
    "collapsed": false
   },
   "outputs": [],
   "source": [
    "x =[0,1]\n",
    "if x[3] =='4':\n",
    "    print 'y'"
   ]
  },
  {
   "cell_type": "code",
   "execution_count": null,
   "metadata": {
    "collapsed": true
   },
   "outputs": [],
   "source": []
  }
 ],
 "metadata": {
  "kernelspec": {
   "display_name": "Python 2",
   "language": "python",
   "name": "python2"
  },
  "language_info": {
   "codemirror_mode": {
    "name": "ipython",
    "version": 2
   },
   "file_extension": ".py",
   "mimetype": "text/x-python",
   "name": "python",
   "nbconvert_exporter": "python",
   "pygments_lexer": "ipython2",
   "version": "2.7.13"
  }
 },
 "nbformat": 4,
 "nbformat_minor": 0
}
