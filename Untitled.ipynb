{
 "cells": [
  {
   "cell_type": "code",
   "execution_count": 17,
   "metadata": {
    "collapsed": false
   },
   "outputs": [],
   "source": [
    "import os, json,shutil\n",
    "import requests\n",
    "import random\n",
    "from bs4 import BeautifulSoup\n",
    "import time\n",
    "from time import gmtime, strftime\n",
    "from datetime import datetime\n",
    "from cron import helpers\n",
    "\n",
    "#globals (via a config later on)\n",
    "git_url = 'https://api.github.com/repos/Azure/azure-rest-api-specs/'\n",
    "raw_url = 'https://raw.githubusercontent.com/Azure/azure-rest-api-specs/master/' \n",
    "sdk_raw_url = 'https://raw.githubusercontent.com/Azure/azure-sdk-for-python/master/'\n",
    "swagger_to_sdk_config_file_name = 'swagger_to_sdk_config.json'\n",
    "assumed_current_date = '2017-04-01' #all packages without build.json are assued to be current as of  04-01\n",
    "sdk_url = 'https://api.github.com/repos/Azure/azure-sdk-for-python/'\n",
    "\n",
    "\n",
    "\n",
    "with open('config/api2sdk2nuget.json', 'r') as f:\n",
    "    map_object = json.load(f)\n",
    "\n",
    "    sdk_map = map_object\n",
    "\n",
    "#get existing projects from swagger_to_sdk config file (this is the main source of truth.)\n",
    "\n",
    "swagger_to_sdk_config_file_name = 'swagger_to_sdk_config.json'\n",
    "\n",
    "\n",
    "swagger_to_sdk = helpers.request_helper(sdk_raw_url + swagger_to_sdk_config_file_name )\n"
   ]
  },
  {
   "cell_type": "code",
   "execution_count": 5,
   "metadata": {
    "collapsed": false
   },
   "outputs": [
    {
     "name": "stdout",
     "output_type": "stream",
     "text": [
      "compute.compute.2015-06-15\n"
     ]
    },
    {
     "ename": "KeyError",
     "evalue": "'input-file'",
     "output_type": "error",
     "traceback": [
      "\u001b[0;31m---------------------------------------------------------------------------\u001b[0m",
      "\u001b[0;31mKeyError\u001b[0m                                  Traceback (most recent call last)",
      "\u001b[0;32m<ipython-input-5-07cfabcaec8d>\u001b[0m in \u001b[0;36m<module>\u001b[0;34m()\u001b[0m\n\u001b[1;32m      1\u001b[0m \u001b[0;32mfor\u001b[0m \u001b[0mp\u001b[0m \u001b[0;32min\u001b[0m \u001b[0mswagger_to_sdk\u001b[0m\u001b[0;34m[\u001b[0m\u001b[0;34m'projects'\u001b[0m\u001b[0;34m]\u001b[0m\u001b[0;34m:\u001b[0m\u001b[0;34m\u001b[0m\u001b[0m\n\u001b[1;32m      2\u001b[0m     \u001b[0;32mprint\u001b[0m \u001b[0mp\u001b[0m\u001b[0;34m\u001b[0m\u001b[0m\n\u001b[0;32m----> 3\u001b[0;31m     \u001b[0;32mprint\u001b[0m \u001b[0mswagger_to_sdk\u001b[0m\u001b[0;34m[\u001b[0m\u001b[0;34m'projects'\u001b[0m\u001b[0;34m]\u001b[0m\u001b[0;34m[\u001b[0m\u001b[0mp\u001b[0m\u001b[0;34m]\u001b[0m\u001b[0;34m[\u001b[0m\u001b[0;34m'input-file'\u001b[0m\u001b[0;34m]\u001b[0m\u001b[0;34m\u001b[0m\u001b[0m\n\u001b[0m\u001b[1;32m      4\u001b[0m \u001b[0;31m#azure_projects = [helpers.get_azure_name_space_data(swagger_to_sdk['projects'][p]['swagger'])[0] for p in swagger_to_sdk['projects']]\u001b[0m\u001b[0;34m\u001b[0m\u001b[0;34m\u001b[0m\u001b[0m\n\u001b[1;32m      5\u001b[0m \u001b[0;31m#azure_projects_no_duplicate = list(set(azure_projects))\u001b[0m\u001b[0;34m\u001b[0m\u001b[0;34m\u001b[0m\u001b[0m\n",
      "\u001b[0;31mKeyError\u001b[0m: 'input-file'"
     ]
    }
   ],
   "source": [
    "for p in swagger_to_sdk['projects']:\n",
    "    print p\n",
    "    print swagger_to_sdk['projects'][p]['input-file'] \n",
    "#azure_projects = [helpers.get_azure_name_space_data(swagger_to_sdk['projects'][p]['swagger'])[0] for p in swagger_to_sdk['projects']]\n",
    "#azure_projects_no_duplicate = list(set(azure_projects))"
   ]
  },
  {
   "cell_type": "code",
   "execution_count": 36,
   "metadata": {
    "collapsed": false
   },
   "outputs": [
    {
     "name": "stdout",
     "output_type": "stream",
     "text": [
      "project:arm-compute\n",
      "md project : arm-recoveryservicesbackup\n",
      "project2:arm-graphrbac\n",
      "project:arm-cdn\n",
      "project:arm-iothub\n",
      "project:batch\n",
      "project:arm-resources/links\n",
      "project:arm-servermanagement\n",
      "project2:arm-network\n",
      "project:arm-eventhub\n",
      "project:arm-rdbms\n",
      "project2:arm-network\n",
      "project:arm-datalake-analytics/catalog\n",
      "project:arm-documentdb\n",
      "project:arm-storage\n",
      "project:arm-resources/policy\n",
      "project:arm-batch\n",
      "project:arm-notificationhubs\n",
      "project:arm-machinelearning\n",
      "project:arm-resources/policy\n",
      "project:arm-mediaservices\n",
      "project:arm-redis\n",
      "project:arm-resources/resources\n",
      "project2:arm-compute\n",
      "project:arm-dns\n",
      "project:arm-rdbms\n",
      "project:arm-resources/managedapplications\n",
      "project:arm-resources/policy\n",
      "project:arm-authorization\n",
      "project:arm-compute\n",
      "project:arm-containerregistry\n",
      "project:arm-consumption\n",
      "project:arm-resources/locks\n",
      "project:arm-cognitiveservices\n",
      "project:servicefabric\n",
      "project2:arm-web\n",
      "project:arm-servicebus\n",
      "project:arm-datalake-analytics/job\n",
      "project2:arm-network\n",
      "project2:arm-monitor\n",
      "project2:monitor\n",
      "project:arm-resources/resources\n",
      "project:arm-scheduler\n",
      "project2:arm-sql\n",
      "project:arm-keyvault\n",
      "project2:arm-network\n",
      "project:arm-datalake-analytics/account\n",
      "project:arm-commerce\n",
      "project:arm-search\n",
      "project:arm-resources/subscriptions\n",
      "project:arm-resources/resources\n",
      "project:arm-billing\n",
      "project:arm-datalake-store/account\n",
      "project:arm-powerbiembedded\n",
      "project:keyvault\n",
      "project:arm-resources/features\n",
      "project:arm-storage\n",
      "project:arm-compute\n",
      "project:arm-logic\n",
      "project:arm-resources/locks\n",
      "project:arm-trafficmanager\n",
      "project:arm-devtestlabs\n",
      "62\n"
     ]
    }
   ],
   "source": [
    "azure_projects = []\n",
    "composite_projects =[]\n",
    "md_projects = []\n",
    "normal_projects = [] \n",
    "\n",
    "\n",
    "for p in swagger_to_sdk['projects']:\n",
    "    project = swagger_to_sdk['projects'][p]\n",
    "    autorest_options = project.get('autorest_options')\n",
    "    #print autorest_options\n",
    "    if autorest_options:\n",
    "        swagger = autorest_options.get('input-file')\n",
    "        if swagger:\n",
    "            azure_project = helpers.get_azure_name_space_data(swagger)[0]\n",
    "            azure_projects.append(azure_project)\n",
    "            normal_projects.append(azure_project)\n",
    "            \n",
    "        else:\n",
    "            #is a composite \n",
    "            composite = project.get(\"composite\")\n",
    "            if composite:\n",
    "                azure_project = helpers.get_azure_name_space_data(composite)[0]\n",
    "                azure_projects.append(azure_project)\n",
    "                composite_projects.append(azure_project)\n",
    "                \n",
    "            else:\n",
    "                print(\"   Error: no link to a file: sdk_config seems to have changed for project =\" + p)    \n",
    "    else:\n",
    "        #new type. look for md. \n",
    "        md = project.get('markdown')\n",
    "        if md:\n",
    "            azure_project = helpers.get_azure_name_space_data(md)[0]\n",
    "            azure_projects.append(azure_project)\n",
    "            md_projects.append(azure_project)\n",
    "            print 'md project : ' + azure_project\n",
    "        else:\n",
    "            print(\"   Error: no link to a file found: sdk_config seems to have changed for project =\" + p) \n",
    "            \n",
    "        \n",
    "        \n",
    "        \n",
    "        \n",
    "        \n",
    "        \"\"\"\n",
    "        if :\n",
    "            swagger = autorest_options.get('input-file')\n",
    "            #print swagger\n",
    "            print p, helpers.get_azure_name_space_data(swagger)\n",
    "        \"\"\"\n",
    "        \n",
    "    \n",
    "    \n",
    "print (len(azure_projects))"
   ]
  },
  {
   "cell_type": "code",
   "execution_count": 26,
   "metadata": {
    "collapsed": false
   },
   "outputs": [
    {
     "data": {
      "text/plain": [
       "u'arm-devtestlabs/2016-05-15/swagger/DTL.json'"
      ]
     },
     "execution_count": 26,
     "metadata": {},
     "output_type": "execute_result"
    }
   ],
   "source": [
    "x = swagger_to_sdk['projects']['devtestlabs'].get('autorest_options')\n",
    "x['input-file']"
   ]
  },
  {
   "cell_type": "code",
   "execution_count": null,
   "metadata": {
    "collapsed": true
   },
   "outputs": [],
   "source": []
  }
 ],
 "metadata": {
  "kernelspec": {
   "display_name": "Python 2",
   "language": "python",
   "name": "python2"
  },
  "language_info": {
   "codemirror_mode": {
    "name": "ipython",
    "version": 2
   },
   "file_extension": ".py",
   "mimetype": "text/x-python",
   "name": "python",
   "nbconvert_exporter": "python",
   "pygments_lexer": "ipython2",
   "version": "2.7.13"
  }
 },
 "nbformat": 4,
 "nbformat_minor": 0
}
